{
 "cells": [
  {
   "cell_type": "code",
   "execution_count": 1,
   "id": "0f3e953d-9aa9-4ddf-a04b-f388089953c4",
   "metadata": {},
   "outputs": [],
   "source": [
    "#Consider the below code to answer further questions:\n",
    "\n",
    "#import numpy as np\n",
    "\n",
    "#list_ = [ ‘1’ , ’2’ , ‘3’ , ‘4’ , ‘5’ ]\n",
    "\n",
    "#array_list = np.array(object = list_)"
   ]
  },
  {
   "cell_type": "code",
   "execution_count": 1,
   "id": "d4dc6b73-bf1f-4ad5-a75b-f850f89dbf63",
   "metadata": {},
   "outputs": [
    {
     "name": "stdout",
     "output_type": "stream",
     "text": [
      "<class 'list'>\n",
      "<class 'numpy.ndarray'>\n"
     ]
    }
   ],
   "source": [
    "#1. Is there any difference in the data type of variables list_ and array_list? If there is then write a code to print the data types of both the variables.\n",
    "\n",
    "#Ans\n",
    "\n",
    "#Yes, there is a difference in the data type of the list_ and array_list variables.\n",
    "\n",
    "#A list is a built-in data type in Python that represents a collection of items. It is an ordered sequence of objects, and its elements can be of different data types.\n",
    "\n",
    "#An array is a data type that represents a collection of items of the same data type. It is typically used when we need to perform mathematical operations on the elements of the collection.\n",
    "\n",
    "import numpy as np\n",
    "list_ = ['1', '2', '3', '4', '5']\n",
    "array_list = np.array(object=list_)\n",
    "print(type(list_))\n",
    "print(type(array_list))"
   ]
  },
  {
   "cell_type": "code",
   "execution_count": 2,
   "id": "9229b628-db3b-48b7-874c-a5b31256670c",
   "metadata": {},
   "outputs": [
    {
     "name": "stdout",
     "output_type": "stream",
     "text": [
      "<class 'str'>\n",
      "<class 'str'>\n",
      "<class 'str'>\n",
      "<class 'str'>\n",
      "<class 'str'>\n",
      "<class 'numpy.str_'>\n",
      "<class 'numpy.str_'>\n",
      "<class 'numpy.str_'>\n",
      "<class 'numpy.str_'>\n",
      "<class 'numpy.str_'>\n"
     ]
    }
   ],
   "source": [
    "#2. Write a code to print the data type of each and every element of both the variables list_ and arra_list.\n",
    "\n",
    "#Ans\n",
    "\n",
    "import numpy as np\n",
    "list_ = ['1', '2', '3', '4', '5']\n",
    "array_list = np.array(object=list_)\n",
    "# Print data type of each element in the list\n",
    "for element in list_:\n",
    "    print(type(element))\n",
    "# Print data type of each element in the NumPy array\n",
    "for element in array_list:\n",
    "    print(type(element))"
   ]
  },
  {
   "cell_type": "code",
   "execution_count": 4,
   "id": "19ea5d58-118f-4464-aa08-b57e45278dcf",
   "metadata": {},
   "outputs": [
    {
     "name": "stdout",
     "output_type": "stream",
     "text": [
      "<class 'str'>\n",
      "<class 'str'>\n",
      "<class 'str'>\n",
      "<class 'str'>\n",
      "<class 'str'>\n",
      "<class 'numpy.int64'>\n",
      "<class 'numpy.int64'>\n",
      "<class 'numpy.int64'>\n",
      "<class 'numpy.int64'>\n",
      "<class 'numpy.int64'>\n"
     ]
    }
   ],
   "source": [
    "#3. Considering the following changes in the variable, array_list:\n",
    "\n",
    "#array_list = np.array(object = list_, dtype = int)\n",
    "\n",
    "#Will there be any difference in the data type of the elements present in both the variables, list_ and arra_list? If so then print the data types of each and every element present in both the variables, list_ and arra_list.\n",
    "\n",
    "#Consider the below code to answer further questions:\n",
    "\n",
    "#import numpy as np\n",
    "\n",
    "#num_list = [ [ 1 , 2 , 3 ] , [ 4 , 5 , 6 ] ]\n",
    "\n",
    "#num_array = np.array(object = num_list)\n",
    "\n",
    "#Ans\n",
    "\n",
    "#Yes, there will be a difference in the data type of the elements present in the original Python list list_ and the resulting NumPy array array_list.\n",
    "\n",
    "#The original list_ variable contains string objects, while the array_list variable contains integer objects.\n",
    "\n",
    "#To print the data types of each and every element present in both the variables, list_ and array_list, you can use nested loops to iterate over each element and apply the type() function to it.\n",
    "\n",
    "import numpy as np\n",
    "list_ = ['1', '2', '3', '4', '5']\n",
    "array_list = np.array(object=list_, dtype=int)\n",
    "# Print data types of each element in original list\n",
    "for element in list_:\n",
    "    print(type(element))\n",
    "# Print data types of each element in NumPy array\n",
    "for element in array_list:\n",
    "    print(type(element))"
   ]
  },
  {
   "cell_type": "code",
   "execution_count": 5,
   "id": "f988f9c5-199a-40d8-a83b-254e3bf4406f",
   "metadata": {},
   "outputs": [
    {
     "name": "stdout",
     "output_type": "stream",
     "text": [
      "Shape of num_array: (2, 3)\n",
      "Size of num_array: 6\n"
     ]
    }
   ],
   "source": [
    "#4. Write a code to find the following characteristics of variable, num_array:\n",
    "\n",
    "#(i) shape\n",
    "\n",
    "#(ii) size\n",
    "\n",
    "#Ans\n",
    "\n",
    "import numpy as np\n",
    "num_list = [[1, 2, 3], [4, 5, 6]]\n",
    "num_array = np.array(object=num_list)\n",
    "# Find the shape of the array\n",
    "print(\"Shape of num_array:\", num_array.shape)\n",
    "# Find the size of the array\n",
    "print(\"Size of num_array:\", num_array.size)"
   ]
  },
  {
   "cell_type": "code",
   "execution_count": 6,
   "id": "6d14d7a5-8c49-498b-9566-9195285a5049",
   "metadata": {},
   "outputs": [
    {
     "name": "stdout",
     "output_type": "stream",
     "text": [
      "[[0. 0. 0.]\n",
      " [0. 0. 0.]\n",
      " [0. 0. 0.]]\n"
     ]
    }
   ],
   "source": [
    "#5. Write a code to create numpy array of 3*3 matrix containing zeros only, using a numpy array creation function.\n",
    "\n",
    "#[Hint: The size of the array will be 9 and the shape will be (3,3).]\n",
    "\n",
    "#Ans\n",
    "\n",
    "import numpy as np\n",
    "# Create a 3x3 array with zeros only\n",
    "zeros_array = np.zeros((3, 3))\n",
    "# Print the zeros array\n",
    "print(zeros_array)"
   ]
  },
  {
   "cell_type": "code",
   "execution_count": 7,
   "id": "d0406e73-7f82-418f-a0e2-270ec656759a",
   "metadata": {},
   "outputs": [
    {
     "name": "stdout",
     "output_type": "stream",
     "text": [
      "[[1. 0. 0. 0. 0.]\n",
      " [0. 1. 0. 0. 0.]\n",
      " [0. 0. 1. 0. 0.]\n",
      " [0. 0. 0. 1. 0.]\n",
      " [0. 0. 0. 0. 1.]]\n"
     ]
    }
   ],
   "source": [
    "#6. Create an identity matrix of shape (5,5) using numpy functions?\n",
    "\n",
    "#[Hint: An identity matrix is a matrix containing 1 diagonally and other elements will be 0.]\n",
    "\n",
    "#Ans\n",
    "\n",
    "import numpy as np\n",
    "# Create an identity matrix of shape (5,5)\n",
    "identity_matrix = np.eye(5)\n",
    "# Print the identity matrix\n",
    "print(identity_matrix)"
   ]
  },
  {
   "cell_type": "code",
   "execution_count": null,
   "id": "679053f0-436e-4c79-abd4-3ad9c885a709",
   "metadata": {},
   "outputs": [],
   "source": []
  }
 ],
 "metadata": {
  "kernelspec": {
   "display_name": "Python 3 (ipykernel)",
   "language": "python",
   "name": "python3"
  },
  "language_info": {
   "codemirror_mode": {
    "name": "ipython",
    "version": 3
   },
   "file_extension": ".py",
   "mimetype": "text/x-python",
   "name": "python",
   "nbconvert_exporter": "python",
   "pygments_lexer": "ipython3",
   "version": "3.10.8"
  }
 },
 "nbformat": 4,
 "nbformat_minor": 5
}
